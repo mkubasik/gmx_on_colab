{
  "cells": [
    {
      "cell_type": "markdown",
      "metadata": {
        "id": "17kvdSZf0L2N"
      },
      "source": [
        "# Compilation of GROMACS on Google Colab\n",
        "\n",
        "This notebook facilitates compiling GROMACS on Google's Colab.\n",
        "It is simply a notebook version of the instructions on https://manual.gromacs.org/documentation/current/install-guide/index.html\n",
        "\n",
        "The notebook downloads Gromacs 2025.2.  Note that there may be a more recent version of Gromacs.\n",
        "\n",
        "Installation takes at least an hour on Colab."
      ]
    },
    {
      "cell_type": "markdown",
      "metadata": {
        "id": "TX0ULj4z0sbi"
      },
      "source": [
        "## Setup the notebook\n",
        "* Mount Google Drive (requires user response)\n",
        "* Check/confirm GPU\n",
        "* Update cmake\n",
        "* Run all cells below.   The notebook will create a /gmx folder in your Google Drive and place the compressed, compiled gmx binary there.\n",
        "* The notebook disconnects from runtime, in order to save precious GPU runtime."
      ]
    },
    {
      "cell_type": "markdown",
      "metadata": {
        "id": "pPQlWYN60xyA"
      },
      "source": [
        "\n",
        "### Mount your Google Drive"
      ]
    },
    {
      "cell_type": "code",
      "execution_count": null,
      "metadata": {
        "id": "QGJwK5s0so3X"
      },
      "outputs": [],
      "source": [
        "from google.colab import drive\n",
        "drive.mount('/content/gdrive')"
      ]
    },
    {
      "cell_type": "markdown",
      "metadata": {
        "id": "Oxs-KfuV1M_n"
      },
      "source": [
        "### Confirm GPU runtime"
      ]
    },
    {
      "cell_type": "code",
      "execution_count": null,
      "metadata": {
        "id": "9Dfo67gLHmJ2"
      },
      "outputs": [],
      "source": [
        "#  Command fails in the absence of a GPU\n",
        "!nvidia-smi"
      ]
    },
    {
      "cell_type": "code",
      "execution_count": null,
      "metadata": {
        "id": "TRfE8D_ntqpb"
      },
      "outputs": [],
      "source": [
        "import os                           #  for navigating the directories/folders at left\n",
        "from google.colab import files       #  for downloading directories/folders at left"
      ]
    },
    {
      "cell_type": "markdown",
      "metadata": {
        "id": "buByEenHzEfV"
      },
      "source": [
        "### Update cmake"
      ]
    },
    {
      "cell_type": "code",
      "execution_count": null,
      "metadata": {
        "id": "rOLEfhnxtpm5"
      },
      "outputs": [],
      "source": [
        "%%bash\n",
        "pip install cmake --upgrade"
      ]
    },
    {
      "cell_type": "markdown",
      "metadata": {
        "id": "nJcqOYChxsmr"
      },
      "source": [
        "## Download and compile Gromacs"
      ]
    },
    {
      "cell_type": "code",
      "execution_count": null,
      "metadata": {
        "id": "PSQO2e3fw-CP"
      },
      "outputs": [],
      "source": [
        "\n",
        "\n",
        "!wget ftp://ftp.gromacs.org/gromacs/gromacs-2025.2.tar.gz\n",
        "!tar xfz gromacs-2025.2.tar.gz\n",
        "#cd /content/gromacs-2023.1\n",
        "#mkdir build\n",
        "#cd build\n",
        "#cmake .. -DGMX_BUILD_OWN_FFTW=ON -DREGRESSIONTEST_DOWNLOAD=ON -DCMAKE_INSTALL_PREFIX=/usr/local/gromacs -DGMX_GPU=CUDA # comment out \"-DGMX_GPU=CUDA\" for non-GPU compilation\n",
        "#make -j 2\n",
        "#make check -j 2\n",
        "#sudo make install -j 2\n"
      ]
    },
    {
      "cell_type": "code",
      "execution_count": null,
      "metadata": {
        "id": "NQPcaeP4LYpo"
      },
      "outputs": [],
      "source": [
        "os.chdir(\"/content/gromacs-2025.2\")\n",
        "!mkdir build\n",
        "os.chdir(\"build\")"
      ]
    },
    {
      "cell_type": "code",
      "execution_count": null,
      "metadata": {
        "id": "COTpORZPK1AA"
      },
      "outputs": [],
      "source": [
        "!cmake .. -DGMX_BUILD_OWN_FFTW=ON -DREGRESSIONTEST_DOWNLOAD=ON -DCMAKE_INSTALL_PREFIX=/usr/local/gromacs -DGMX_GPU=CUDA # comment out \"-DGMX_GPU=CUDA\" for non-GPU compilation\n",
        "#make -j 2\n",
        "#make check -j 2\n",
        "#sudo make install -j 2"
      ]
    },
    {
      "cell_type": "code",
      "execution_count": null,
      "metadata": {
        "id": "6Pl9qBikK1di"
      },
      "outputs": [],
      "source": [
        "#cmake .. -DGMX_BUILD_OWN_FFTW=ON -DREGRESSIONTEST_DOWNLOAD=ON -DCMAKE_INSTALL_PREFIX=/usr/local/gromacs -DGMX_GPU=CUDA # comment out \"-DGMX_GPU=CUDA\" for non-GPU compilation\n",
        "!make -j 2\n",
        "#make check -j 2\n",
        "#sudo make install -j 2"
      ]
    },
    {
      "cell_type": "code",
      "execution_count": null,
      "metadata": {
        "id": "gMkPgjfxK1pb"
      },
      "outputs": [],
      "source": [
        "#cmake .. -DGMX_BUILD_OWN_FFTW=ON -DREGRESSIONTEST_DOWNLOAD=ON -DCMAKE_INSTALL_PREFIX=/usr/local/gromacs -DGMX_GPU=CUDA # comment out \"-DGMX_GPU=CUDA\" for non-GPU compilation\n",
        "#make -j 2\n",
        "!make check -j 2\n",
        "#sudo make install -j 2"
      ]
    },
    {
      "cell_type": "code",
      "execution_count": null,
      "metadata": {
        "id": "gCehu4aYK11Z"
      },
      "outputs": [],
      "source": [
        "#cmake .. -DGMX_BUILD_OWN_FFTW=ON -DREGRESSIONTEST_DOWNLOAD=ON -DCMAKE_INSTALL_PREFIX=/usr/local/gromacs -DGMX_GPU=CUDA # comment out \"-DGMX_GPU=CUDA\" for non-GPU compilation\n",
        "#make -j 2\n",
        "#make check -j 2\n",
        "!sudo make install -j 2"
      ]
    },
    {
      "cell_type": "markdown",
      "metadata": {
        "id": "Hud8-Vrpyfaa"
      },
      "source": [
        "## Confirm compilation with a call to gromacs"
      ]
    },
    {
      "cell_type": "code",
      "execution_count": null,
      "metadata": {
        "id": "jkA5Kvgnyjzs"
      },
      "outputs": [],
      "source": [
        "%%bash\n",
        "source /usr/local/gromacs/bin/GMXRC\n",
        "gmx --version"
      ]
    },
    {
      "cell_type": "markdown",
      "metadata": {
        "id": "fbtWfM7Ixyb2"
      },
      "source": [
        "## Compress and save compiled GROMACS to Google Drive"
      ]
    },
    {
      "cell_type": "code",
      "execution_count": null,
      "metadata": {
        "id": "4fQRBw_XpfVq"
      },
      "outputs": [],
      "source": [
        "import datetime"
      ]
    },
    {
      "cell_type": "code",
      "execution_count": null,
      "metadata": {
        "id": "W3ViYGF5x3_h"
      },
      "outputs": [],
      "source": [
        "platform = \"GoogleColab_\"\n",
        "print(platform)\n",
        "today = datetime.date.today()\n",
        "timestamp = str(today.year) + \"-\" + str(today.month) + \"-\" + str(today.day)\n",
        "print(timestamp)\n",
        "tarfilename = \"gmx_GPU_\"+ platform + timestamp + \".tar\"\n",
        "print(tarfilename)\n",
        "!tar -cf /content/$tarfilename /usr/local/gromacs\n",
        "!mkdir -p /content/gdrive/MyDrive/gmx\n",
        "!cp /content/$tarfilename /content/gdrive/MyDrive/gmx/.\n",
        "\n",
        "\n"
      ]
    },
    {
      "cell_type": "markdown",
      "source": [
        "### Additional compression"
      ],
      "metadata": {
        "id": "k028XrZBJR77"
      }
    },
    {
      "cell_type": "code",
      "source": [
        "platform = \"GoogleColab_\"\n",
        "print(platform)\n",
        "today = datetime.date.today()\n",
        "timestamp = str(today.year) + \"-\" + str(today.month) + \"-\" + str(today.day)\n",
        "print(timestamp)\n",
        "tarfilename = \"gmx_GPU_\"+ platform + timestamp + \".tar.gz\"\n",
        "print(tarfilename)\n",
        "!tar -czvf /content/$tarfilename /usr/local/gromacs\n",
        "!cp /content/$tarfilename /content/gdrive/MyDrive/gmx/.\n",
        "\n",
        "#tar -czvf archive_name.tar.gz folder_name"
      ],
      "metadata": {
        "id": "d5ox7Q9UvGlF"
      },
      "execution_count": null,
      "outputs": []
    },
    {
      "cell_type": "markdown",
      "metadata": {
        "id": "Nfl4ThVIzpHj"
      },
      "source": [
        "## End runtime\n",
        "So that, if you've walked away, you are not squandering your access to Google's \"free\" GPU's."
      ]
    },
    {
      "cell_type": "code",
      "execution_count": null,
      "metadata": {
        "id": "W-LWBe_uzpd7"
      },
      "outputs": [],
      "source": [
        "from google.colab import runtime\n",
        "runtime.unassign()"
      ]
    },
    {
      "cell_type": "markdown",
      "metadata": {
        "id": "HTpDQ_Yy4ANe"
      },
      "source": [
        "## If something goes wrong and you need to start over...."
      ]
    },
    {
      "cell_type": "code",
      "execution_count": null,
      "metadata": {
        "id": "HBXpC3kR32ZF"
      },
      "outputs": [],
      "source": [
        "%%bash\n",
        "rm -r /content/gromacs*"
      ]
    },
    {
      "cell_type": "markdown",
      "metadata": {
        "id": "bwYpfU0zjHdn"
      },
      "source": [
        "End\n"
      ]
    }
  ],
  "metadata": {
    "colab": {
      "provenance": [],
      "gpuType": "T4"
    },
    "kernelspec": {
      "display_name": "Python 3",
      "name": "python3"
    },
    "language_info": {
      "name": "python"
    },
    "accelerator": "GPU"
  },
  "nbformat": 4,
  "nbformat_minor": 0
}